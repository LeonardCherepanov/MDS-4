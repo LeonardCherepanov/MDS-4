{
 "cells": [
  {
   "cell_type": "markdown",
   "id": "fourth-campaign",
   "metadata": {},
   "source": [
    "### Домашнее задание \"Математический анализ. Производная\"."
   ]
  },
  {
   "cell_type": "markdown",
   "id": "current-overall",
   "metadata": {},
   "source": [
    "#### Уровень 0:\n",
    "\n",
    "Посчитайте значение первой и второй производной функции:\n",
    "\n",
    "$f(x) = x^5 + 4sin(2x) + cos(3x+3)$\n",
    "\n",
    "В точке x = 1."
   ]
  },
  {
   "cell_type": "code",
   "execution_count": 55,
   "id": "blocked-bulgaria",
   "metadata": {},
   "outputs": [],
   "source": [
    "from sympy import diff, symbols, cos, sin"
   ]
  },
  {
   "cell_type": "code",
   "execution_count": 56,
   "id": "front-frank",
   "metadata": {},
   "outputs": [],
   "source": [
    "x = sym.Symbol('x')\n",
    "f = x**5 + 4*sin(2*x) + cos(3*x+3)"
   ]
  },
  {
   "cell_type": "code",
   "execution_count": 59,
   "id": "suffering-carbon",
   "metadata": {},
   "outputs": [
    {
     "name": "stdout",
     "output_type": "stream",
     "text": [
      "5*x**4 - 3*sin(3*x + 3) + 8*cos(2*x)\n",
      "8*cos(2) - 3*sin(6) + 5\n"
     ]
    }
   ],
   "source": [
    "# Находим первую производную\n",
    "derivative_f_1 = f.diff(x)\n",
    "print(derivative_f_1) # первая производная\n",
    "print(derivative_f_1.subs(x, 1)) # подставляем x = 1"
   ]
  },
  {
   "cell_type": "code",
   "execution_count": 60,
   "id": "phantom-desperate",
   "metadata": {},
   "outputs": [
    {
     "name": "stdout",
     "output_type": "stream",
     "text": [
      "20*x**3 - 16*sin(2*x) - 9*cos(3*x + 3)\n",
      "-16*sin(2) - 9*cos(6) + 20\n"
     ]
    }
   ],
   "source": [
    "# Находим вторую производную\n",
    "derivative_f_2 = derivative_f_1.diff(x)\n",
    "print(derivative_f_2)\n",
    "print(derivative_f_2.subs(x, 1)) # подставляем x = 1"
   ]
  },
  {
   "cell_type": "code",
   "execution_count": null,
   "id": "administrative-desktop",
   "metadata": {},
   "outputs": [],
   "source": [
    "подскажите, чтобы решить...подойдет метод ниже...что-то не сходится (мне кажется)"
   ]
  },
  {
   "cell_type": "code",
   "execution_count": 50,
   "id": "appointed-dispute",
   "metadata": {},
   "outputs": [
    {
     "data": {
      "text/latex": [
       "$\\displaystyle 14.525826126742$"
      ],
      "text/plain": [
       "14.5258261267420"
      ]
     },
     "execution_count": 50,
     "metadata": {},
     "output_type": "execute_result"
    }
   ],
   "source": [
    "from scipy.misc import derivative\n",
    "def f(x):\n",
    "    return x**5 + 4*sin(2*x) + cos(3*x+3)\n",
    "derivative(f, 1, n = 1)"
   ]
  },
  {
   "cell_type": "code",
   "execution_count": 51,
   "id": "sustained-simple",
   "metadata": {},
   "outputs": [
    {
     "data": {
      "text/latex": [
       "$\\displaystyle 15.876947272377$"
      ],
      "text/plain": [
       "15.8769472723770"
      ]
     },
     "execution_count": 51,
     "metadata": {},
     "output_type": "execute_result"
    }
   ],
   "source": [
    "from scipy.misc import derivative\n",
    "def f(x):\n",
    "    return x**5 + 4*sin(2*x) + cos(3*x+3)\n",
    "derivative(f, 1, n = 2)"
   ]
  },
  {
   "cell_type": "markdown",
   "id": "median-integration",
   "metadata": {},
   "source": [
    "#### Уровень 1:\n",
    "Постройте график первой и второй производной функции:\n",
    "\n",
    "$f(x) = sin^5(2x+1)$\n",
    "\n",
    "На отрезке [-5; 5]."
   ]
  },
  {
   "cell_type": "code",
   "execution_count": 81,
   "id": "celtic-pregnancy",
   "metadata": {},
   "outputs": [
    {
     "data": {
      "image/png": "[encoded data removed]",
      "text/plain": [
       "<Figure size 432x288 with 1 Axes>"
      ]
     },
     "metadata": {
      "needs_background": "light"
     },
     "output_type": "display_data"
    }
   ],
   "source": [
    "import math as m\n",
    "import matplotlib.pyplot as plt\n",
    "import numpy as np\n",
    " \n",
    "y = lambda x: 5*x**4 - 3*sin(3*x + 3) + 8*cos(2*x)\n",
    "xs = np.linspace(-5,5,100)\n",
    "plt.plot(xs, [y(x) for x in xs])\n",
    "plt.show()"
   ]
  },
  {
   "cell_type": "code",
   "execution_count": 82,
   "id": "forbidden-effect",
   "metadata": {},
   "outputs": [
    {
     "data": {
      "image/png": "[encoded data removed]",
      "text/plain": [
       "<Figure size 432x288 with 1 Axes>"
      ]
     },
     "metadata": {
      "needs_background": "light"
     },
     "output_type": "display_data"
    }
   ],
   "source": [
    "y = lambda x: 20*x**3 - 16*sin(2*x) - 9*cos(3*x + 3)\n",
    "xs = np.linspace(-5,5,100)\n",
    "plt.plot(xs, [y(x) for x in xs])\n",
    "plt.show()"
   ]
  },
  {
   "cell_type": "code",
   "execution_count": null,
   "id": "classical-cooking",
   "metadata": {},
   "outputs": [],
   "source": []
  }
 ],
 "metadata": {
  "kernelspec": {
   "display_name": "Python 3",
   "language": "python",
   "name": "python3"
  },
  "language_info": {
   "codemirror_mode": {
    "name": "ipython",
    "version": 3
   },
   "file_extension": ".py",
   "mimetype": "text/x-python",
   "name": "python",
   "nbconvert_exporter": "python",
   "pygments_lexer": "ipython3",
   "version": "3.8.8"
  }
 },
 "nbformat": 4,
 "nbformat_minor": 5
}
